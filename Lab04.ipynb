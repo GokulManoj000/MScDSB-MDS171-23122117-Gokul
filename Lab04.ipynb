{
 "cells": [
  {
   "cell_type": "code",
   "execution_count": 21,
   "metadata": {},
   "outputs": [
    {
     "name": "stdout",
     "output_type": "stream",
     "text": [
      "Grocery Store Purchase List\n"
     ]
    },
    {
     "name": "stdout",
     "output_type": "stream",
     "text": [
      "grapes 5 40 200\n"
     ]
    },
    {
     "data": {
      "text/plain": [
       "True"
      ]
     },
     "execution_count": 21,
     "metadata": {},
     "output_type": "execute_result"
    }
   ],
   "source": [
    "print(\"Grocery Store Purchase List\")\n",
    "name=input(\"Enter customer name:\")\n",
    "item=input(\"Enter the item:\")\n",
    "qty=int(input(\"Enter the quantity:\"))\n",
    "rate=int(input(\"Enter price for single quantity:\"))\n",
    "price=qty*rate\n",
    "\n",
    "print(item, qty, rate, price)\n",
    "\n",
    "def Purchase(name , item , rate , qty , price):\n",
    "    file = open(\"Purchase.txt\", \"a+\")\n",
    "    file.write(\"\\nName = \"+name)\n",
    "    file.write(\"\\nItem name = \"+item)\n",
    "    file.write(\"\\nRate = \"+str(rate))\n",
    "    file.write(\"\\nQuantity = \"+str(qty))\n",
    "    file.write(\"\\nPrice = \"+str(price))\n",
    "\n",
    "    file.write(\"\\n-----------------------------------------------------------------------------------------------------------\")\n",
    "    file.close()\n",
    "    return True\n",
    "Purchase(name , item , rate , qty , price)\n",
    "\n"
   ]
  },
  {
   "cell_type": "code",
   "execution_count": 25,
   "metadata": {},
   "outputs": [
    {
     "name": "stdout",
     "output_type": "stream",
     "text": [
      "The total quantity  =  11\n"
     ]
    }
   ],
   "source": [
    "salescount = 0\n",
    "with open(\"Purchase.txt\" , \"r+\") as file :\n",
    "    for line in file:\n",
    "        if \"Quantity\" in line:\n",
    "           \n",
    "            Price = int(line.split(\"=\")[1].strip())\n",
    "            salescount += Price\n",
    "    print(\"The total quantity  = \" , salescount)"
   ]
  },
  {
   "cell_type": "code",
   "execution_count": 24,
   "metadata": {},
   "outputs": [
    {
     "name": "stdout",
     "output_type": "stream",
     "text": [
      "The total price obtained  =  335\n"
     ]
    }
   ],
   "source": [
    "totprice = 0\n",
    "with open(\"Purchase.txt\" , \"r+\") as file :\n",
    "    for line in file:\n",
    "        if \"Price\" in line:\n",
    "           \n",
    "            Price = int(line.split(\"=\")[1].strip())\n",
    "            totprice += Price\n",
    "    print(\"The total price obtained  = \" , totprice)"
   ]
  },
  {
   "cell_type": "code",
   "execution_count": null,
   "metadata": {},
   "outputs": [],
   "source": []
  }
 ],
 "metadata": {
  "kernelspec": {
   "display_name": "Python 3",
   "language": "python",
   "name": "python3"
  },
  "language_info": {
   "codemirror_mode": {
    "name": "ipython",
    "version": 3
   },
   "file_extension": ".py",
   "mimetype": "text/x-python",
   "name": "python",
   "nbconvert_exporter": "python",
   "pygments_lexer": "ipython3",
   "version": "3.11.2"
  },
  "orig_nbformat": 4
 },
 "nbformat": 4,
 "nbformat_minor": 2
}
