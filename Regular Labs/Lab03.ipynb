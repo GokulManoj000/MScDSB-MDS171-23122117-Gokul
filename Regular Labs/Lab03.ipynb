{
 "cells": [
  {
   "cell_type": "code",
   "execution_count": 11,
   "metadata": {},
   "outputs": [
    {
     "name": "stdout",
     "output_type": "stream",
     "text": [
      "Mean is: 542.94\n",
      "Minimum is: 17\n",
      "Maximum is: 999\n",
      "Range is: 982\n"
     ]
    }
   ],
   "source": [
    "obs=[761, 123, 585, 275, 194, 840, 999, 622, 763, 40, 825, \n",
    "     687, 402, 338, 611, 987, 739, 95, 819, 568, 320, 126, \n",
    "     688, 948, 514, 223, 751, 379, 857, 767, 492, 162, 437, \n",
    "     934, 430, 343, 725, 511, 580, 678, 708, 823, 346, 179, \n",
    "     786, 663, 195, 890, 267, 502, 214, 300, 786, 961, 235, \n",
    "     559, 992, 919, 948, 318, 57, 787, 653, 317, 305, 172, \n",
    "     966, 182, 970, 17, 89, 624, 629, 595, 485, 752, 984, \n",
    "     978, 460, 124, 321, 256, 614, 852, 811, 561, 127, 207, \n",
    "     406, 615, 888, 391, 691, 470, 911, 401, 137, 600, 478, 682]\n",
    "\n",
    "def mean(lst):\n",
    "    sum=0\n",
    "    count=0\n",
    "    for i in lst:\n",
    "        sum=sum+i\n",
    "        if i!=0:\n",
    "            count=count+1\n",
    "    mean=sum/count\n",
    "    print(\"Mean is:\",mean)\n",
    "\n",
    "def sort(lst):\n",
    "    min=lst[0]\n",
    "    max=lst[0]\n",
    "    for i in lst:\n",
    "        if i<min:\n",
    "            min=i\n",
    "        if i>max:\n",
    "            max=i\n",
    "    print(\"Minimum is:\",min)\n",
    "    print(\"Maximum is:\", max)\n",
    "    print(\"Range is:\",max-min)\n",
    "\n",
    "mean(obs)\n",
    "sort(obs)"
   ]
  },
  {
   "cell_type": "code",
   "execution_count": null,
   "metadata": {},
   "outputs": [],
   "source": []
  }
 ],
 "metadata": {
  "kernelspec": {
   "display_name": "Python 3",
   "language": "python",
   "name": "python3"
  },
  "language_info": {
   "codemirror_mode": {
    "name": "ipython",
    "version": 3
   },
   "file_extension": ".py",
   "mimetype": "text/x-python",
   "name": "python",
   "nbconvert_exporter": "python",
   "pygments_lexer": "ipython3",
   "version": "3.11.2"
  },
  "orig_nbformat": 4
 },
 "nbformat": 4,
 "nbformat_minor": 2
}
