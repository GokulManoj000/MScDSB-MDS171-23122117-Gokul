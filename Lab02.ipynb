{
 "cells": [
  {
   "cell_type": "code",
   "execution_count": 3,
   "metadata": {},
   "outputs": [
    {
     "name": "stdout",
     "output_type": "stream",
     "text": [
      "12345onetwothreefourfive\n"
     ]
    }
   ],
   "source": [
    "def seperate(no):\n",
    "    digit=\"\"\n",
    "    for i in range(0,len(no)):\n",
    "        if no[i] == '0':\n",
    "            digit=digit+'zero'\n",
    "        elif no[i] == '1':\n",
    "            digit=digit+'one'\n",
    "        elif no[i] == '2':\n",
    "            digit=digit+'two'\n",
    "        elif no[i] == '3':\n",
    "            digit=digit+'three'\n",
    "        elif no[i] == '4':\n",
    "            digit=digit+'four'\n",
    "        elif no[i] == '5':\n",
    "            digit=digit+'five'\n",
    "        elif no[i] == '6':\n",
    "            digit=digit+'six'\n",
    "        elif no[i] == '7':\n",
    "            digit=digit+'seven'\n",
    "        elif no[i] == '8':\n",
    "            digit=digit+'eight'\n",
    "        elif no[i] == '9':\n",
    "            digit=digit+'nine'\n",
    "        else:\n",
    "            return False\n",
    "    print(n+digit)\n",
    "    \n",
    "        \n",
    "n=input(\"Enter a number:\")\n",
    "seperate(n)"
   ]
  },
  {
   "cell_type": "code",
   "execution_count": null,
   "metadata": {},
   "outputs": [],
   "source": []
  },
  {
   "cell_type": "code",
   "execution_count": null,
   "metadata": {},
   "outputs": [],
   "source": []
  }
 ],
 "metadata": {
  "kernelspec": {
   "display_name": "Python 3",
   "language": "python",
   "name": "python3"
  },
  "language_info": {
   "codemirror_mode": {
    "name": "ipython",
    "version": 3
   },
   "file_extension": ".py",
   "mimetype": "text/x-python",
   "name": "python",
   "nbconvert_exporter": "python",
   "pygments_lexer": "ipython3",
   "version": "3.11.2"
  },
  "orig_nbformat": 4
 },
 "nbformat": 4,
 "nbformat_minor": 2
}
