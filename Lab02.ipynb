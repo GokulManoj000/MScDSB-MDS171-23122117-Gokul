{
 "cells": [
  {
   "cell_type": "code",
   "execution_count": 2,
   "metadata": {},
   "outputs": [
    {
     "ename": "SyntaxError",
     "evalue": "cannot assign to literal here. Maybe you meant '==' instead of '='? (3779036741.py, line 2)",
     "output_type": "error",
     "traceback": [
      "\u001b[1;36m  Cell \u001b[1;32mIn[2], line 2\u001b[1;36m\u001b[0m\n\u001b[1;33m    '0'=\"zero\"\u001b[0m\n\u001b[1;37m    ^\u001b[0m\n\u001b[1;31mSyntaxError\u001b[0m\u001b[1;31m:\u001b[0m cannot assign to literal here. Maybe you meant '==' instead of '='?\n"
     ]
    }
   ],
   "source": [
    "def separate(no):\n",
    "    if no == '0':\n",
    "        return 'zero'\n",
    "    elif no == '1':\n",
    "        return 'one'\n",
    "    elif no == '2':\n",
    "        return 'two'\n",
    "    elif no == '3':\n",
    "        return 'three'\n",
    "    elif no == '4':\n",
    "        return 'four'\n",
    "    elif no == '5':\n",
    "        return 'five'\n",
    "    elif no == '6':\n",
    "        return 'six'\n",
    "    elif no == '7':\n",
    "        return 'seven'\n",
    "    elif no == '8':\n",
    "        return 'eight'\n",
    "    elif no == '9':\n",
    "        return 'nine'\n",
    "    for i in no:\n",
    "\n",
    "n=input(\"Enter a number:\")\n",
    "separate(n)\n"
   ]
  },
  {
   "cell_type": "code",
   "execution_count": 10,
   "metadata": {},
   "outputs": [
    {
     "name": "stdout",
     "output_type": "stream",
     "text": [
      "seveneightninefoursixthreetwo\n"
     ]
    }
   ],
   "source": [
    "def seperate(no):\n",
    "    digit=\"\"\n",
    "    for i in range(0,len(no)):\n",
    "        if no[i] == '0':\n",
    "            digit=digit+'zero'\n",
    "        elif no[i] == '1':\n",
    "            digit=digit+'one'\n",
    "        elif no[i] == '2':\n",
    "            digit=digit+'two'\n",
    "        elif no[i] == '3':\n",
    "            digit=digit+'three'\n",
    "        elif no[i] == '4':\n",
    "            digit=digit+'four'\n",
    "        elif no[i] == '5':\n",
    "            digit=digit+'five'\n",
    "        elif no[i] == '6':\n",
    "            digit=digit+'six'\n",
    "        elif no[i] == '7':\n",
    "            digit=digit+'seven'\n",
    "        elif no[i] == '8':\n",
    "            digit=digit+'eight'\n",
    "        elif no[i] == '9':\n",
    "            digit=digit+'nine'\n",
    "        else:\n",
    "            return False\n",
    "    print(digit)\n",
    "        \n",
    "n=input(\"Enter a number:\")\n",
    "seperate(n)"
   ]
  },
  {
   "cell_type": "code",
   "execution_count": null,
   "metadata": {},
   "outputs": [],
   "source": []
  },
  {
   "cell_type": "code",
   "execution_count": null,
   "metadata": {},
   "outputs": [],
   "source": []
  }
 ],
 "metadata": {
  "kernelspec": {
   "display_name": "Python 3",
   "language": "python",
   "name": "python3"
  },
  "language_info": {
   "codemirror_mode": {
    "name": "ipython",
    "version": 3
   },
   "file_extension": ".py",
   "mimetype": "text/x-python",
   "name": "python",
   "nbconvert_exporter": "python",
   "pygments_lexer": "ipython3",
   "version": "3.11.2"
  },
  "orig_nbformat": 4
 },
 "nbformat": 4,
 "nbformat_minor": 2
}
