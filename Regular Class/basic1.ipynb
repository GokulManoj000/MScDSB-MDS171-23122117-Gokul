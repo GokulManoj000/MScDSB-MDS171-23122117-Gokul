{
 "cells": [
  {
   "cell_type": "markdown",
   "metadata": {},
   "source": [
    "#### File Handling"
   ]
  },
  {
   "cell_type": "code",
   "execution_count": 18,
   "metadata": {},
   "outputs": [],
   "source": [
    "file=open(\"Sample.txt\",\"w+\")"
   ]
  },
  {
   "cell_type": "code",
   "execution_count": 21,
   "metadata": {},
   "outputs": [
    {
     "data": {
      "text/plain": [
       "47"
      ]
     },
     "execution_count": 21,
     "metadata": {},
     "output_type": "execute_result"
    }
   ],
   "source": [
    "file.write(\"This is the first line of the file from python\\n\")"
   ]
  },
  {
   "cell_type": "code",
   "execution_count": 22,
   "metadata": {},
   "outputs": [],
   "source": [
    "file.close()"
   ]
  },
  {
   "cell_type": "code",
   "execution_count": 23,
   "metadata": {},
   "outputs": [
    {
     "data": {
      "text/plain": [
       "'This is the first line of the file from python\\n'"
      ]
     },
     "execution_count": 23,
     "metadata": {},
     "output_type": "execute_result"
    }
   ],
   "source": [
    "file=open(\"Sample.txt\",\"r+\")\n",
    "file.readline()"
   ]
  },
  {
   "cell_type": "code",
   "execution_count": 24,
   "metadata": {},
   "outputs": [
    {
     "data": {
      "text/plain": [
       "['This is the first line of the file from python\\n',\n",
       " 'This is the first line of the file from python\\n']"
      ]
     },
     "execution_count": 24,
     "metadata": {},
     "output_type": "execute_result"
    }
   ],
   "source": [
    "file.readlines()"
   ]
  },
  {
   "cell_type": "markdown",
   "metadata": {},
   "source": [
    "WAF in python that accepts your details and save it into file with your name."
   ]
  },
  {
   "cell_type": "code",
   "execution_count": 11,
   "metadata": {},
   "outputs": [],
   "source": [
    "def details(name,regno):\n",
    "    #print(\"Your name is\",name,\"\\nYour register number is\",regno)\n",
    "    filename=name+\".txt\"\n",
    "    file=open(filename,\"w+\")\n",
    "    file.write(name+\"\\n\")\n",
    "    file.write(regno)\n",
    "    file.close()\n",
    "    file=open(filename,\"r+\")\n",
    "    file.readlines()\n",
    "    file.close()\n",
    "name=input(\"Enter your name:\")\n",
    "regno=input(\"Enter your reg no:\")\n",
    "details(name,regno)\n",
    "\n"
   ]
  },
  {
   "cell_type": "markdown",
   "metadata": {},
   "source": [
    "WAP that will take 2 operands and an operator and perform the calculation and gives the result. Also save the calculations that your program performs in a file."
   ]
  },
  {
   "cell_type": "code",
   "execution_count": 16,
   "metadata": {},
   "outputs": [
    {
     "name": "stdout",
     "output_type": "stream",
     "text": [
      "The result of 5 + 6 is 11\n"
     ]
    },
    {
     "ename": "TypeError",
     "evalue": "can only concatenate str (not \"int\") to str",
     "output_type": "error",
     "traceback": [
      "\u001b[1;31m---------------------------------------------------------------------------\u001b[0m",
      "\u001b[1;31mTypeError\u001b[0m                                 Traceback (most recent call last)",
      "Cell \u001b[1;32mIn[16], line 21\u001b[0m\n\u001b[0;32m     19\u001b[0m     file\u001b[39m.\u001b[39mwrite(\u001b[39m\"\u001b[39m\u001b[39mThe result of\u001b[39m\u001b[39m\"\u001b[39m\u001b[39m+\u001b[39ma\u001b[39m+\u001b[39mop\u001b[39m+\u001b[39mb\u001b[39m+\u001b[39m\u001b[39m\"\u001b[39m\u001b[39mis\u001b[39m\u001b[39m\"\u001b[39m\u001b[39m+\u001b[39mr)\n\u001b[0;32m     20\u001b[0m     file\u001b[39m.\u001b[39mclose()\n\u001b[1;32m---> 21\u001b[0m operate(a,b,op)\n",
      "Cell \u001b[1;32mIn[16], line 19\u001b[0m, in \u001b[0;36moperate\u001b[1;34m(a, b, op)\u001b[0m\n\u001b[0;32m     17\u001b[0m \u001b[39mprint\u001b[39m(\u001b[39m\"\u001b[39m\u001b[39mThe result of\u001b[39m\u001b[39m\"\u001b[39m,a,op,b,\u001b[39m\"\u001b[39m\u001b[39mis\u001b[39m\u001b[39m\"\u001b[39m,r)\n\u001b[0;32m     18\u001b[0m file\u001b[39m=\u001b[39m\u001b[39mopen\u001b[39m(\u001b[39m\"\u001b[39m\u001b[39moperate.txt\u001b[39m\u001b[39m\"\u001b[39m,\u001b[39m\"\u001b[39m\u001b[39mw+\u001b[39m\u001b[39m\"\u001b[39m)\n\u001b[1;32m---> 19\u001b[0m file\u001b[39m.\u001b[39mwrite(\u001b[39m\"\u001b[39;49m\u001b[39mThe result of\u001b[39;49m\u001b[39m\"\u001b[39;49m\u001b[39m+\u001b[39;49ma\u001b[39m+\u001b[39mop\u001b[39m+\u001b[39mb\u001b[39m+\u001b[39m\u001b[39m\"\u001b[39m\u001b[39mis\u001b[39m\u001b[39m\"\u001b[39m\u001b[39m+\u001b[39mr)\n\u001b[0;32m     20\u001b[0m file\u001b[39m.\u001b[39mclose()\n",
      "\u001b[1;31mTypeError\u001b[0m: can only concatenate str (not \"int\") to str"
     ]
    }
   ],
   "source": [
    "a=int(input(\"Enter first number:\"))\n",
    "b=int(input(\"Enter second number:\"))\n",
    "op=input(\"Enter operator:\")\n",
    "\n",
    "def operate(a,b,op):\n",
    "    r=0\n",
    "    if op=='+':\n",
    "        r=a+b\n",
    "    elif op=='-':\n",
    "        r=a-b\n",
    "    elif op=='*':\n",
    "        r=a*b\n",
    "    elif op=='/':\n",
    "        r=a/b\n",
    "    else:\n",
    "        print(\"Try again\")\n",
    "    print(\"The result of\",a,op,b,\"is\",r)\n",
    "    file=open(\"operate.txt\",\"w+\")\n",
    "    file.write(\"The result of\"+a+op+b+\"is\"+r)\n",
    "    file.close()\n",
    "operate(a,b,op)\n",
    "    "
   ]
  },
  {
   "cell_type": "code",
   "execution_count": 1,
   "metadata": {},
   "outputs": [
    {
     "name": "stdout",
     "output_type": "stream",
     "text": [
      "0 0\n",
      "1 1\n",
      "2 4\n",
      "3 9\n",
      "4 16\n",
      "5 25\n",
      "6 36\n"
     ]
    }
   ],
   "source": [
    "a=0\n",
    "while a<7:\n",
    "    res=a*a\n",
    "    print(a, res)\n",
    "    a=a+1"
   ]
  },
  {
   "cell_type": "code",
   "execution_count": 7,
   "metadata": {},
   "outputs": [
    {
     "name": "stdout",
     "output_type": "stream",
     "text": [
      "1\n",
      "2\n",
      "3\n",
      "4\n",
      "5\n",
      "6\n"
     ]
    }
   ],
   "source": [
    "# break, continue\n",
    "\n",
    "for i in range(1,10,1):\n",
    "    if i==7:\n",
    "        break\n",
    "    print(i)\n",
    "    "
   ]
  },
  {
   "cell_type": "code",
   "execution_count": 8,
   "metadata": {},
   "outputs": [
    {
     "name": "stdout",
     "output_type": "stream",
     "text": [
      "1\n",
      "2\n",
      "3\n",
      "4\n",
      "5\n",
      "6\n",
      "8\n",
      "9\n"
     ]
    }
   ],
   "source": [
    "for i in range(1,10,1):\n",
    "    if i==7:\n",
    "        continue\n",
    "    print(i)"
   ]
  },
  {
   "cell_type": "code",
   "execution_count": 11,
   "metadata": {},
   "outputs": [
    {
     "name": "stdout",
     "output_type": "stream",
     "text": [
      "['ABC', 'ABC', 'CDF', 'ABC', 'BGR', 'QWE']\n",
      "{'CDF', 'BGR', 'ABC', 'QWE'}\n",
      "['CDF', 'BGR', 'ABC', 'QWE']\n",
      "<class 'list'>\n",
      "<class 'set'>\n",
      "<class 'list'>\n"
     ]
    }
   ],
   "source": [
    "\n",
    "list_ex=[\"ABC\",\"ABC\",\"CDF\",\"ABC\",\"BGR\",\"QWE\"]\n",
    "set_ex=set(list_ex)\n",
    "back=list(set_ex)\n",
    "print(list_ex)\n",
    "print(set_ex)\n",
    "print(back)\n",
    "print(type(list_ex))\n",
    "print(type(set_ex))\n",
    "print(type(back))"
   ]
  },
  {
   "cell_type": "markdown",
   "metadata": {},
   "source": [
    "Create a list of  10 names that are random and repeating. Identify the unique items and their count"
   ]
  },
  {
   "cell_type": "code",
   "execution_count": 19,
   "metadata": {},
   "outputs": [
    {
     "name": "stdout",
     "output_type": "stream",
     "text": [
      "['Gokul', 'Aadith', 'Devika', 'Gokul', 'Gokul', 'Devika', 'Aadith', 'Ardra', 'Aadith', 'Nandana']\n",
      "{'Devika', 'Gokul', 'Nandana', 'Ardra', 'Aadith'}\n",
      "Devika 2\n",
      "Gokul 3\n",
      "Nandana 1\n",
      "Ardra 1\n",
      "Aadith 3\n"
     ]
    }
   ],
   "source": [
    "#print names\n",
    "names=[]\n",
    "for i in range(10):\n",
    "    name=input(\"Enter a name:\")\n",
    "    names.append(name)\n",
    "print(names)\n",
    "#print unique names\n",
    "set_name=set(names)\n",
    "print(set_name)\n",
    "#search and count unique names\n",
    "for search in set_name:\n",
    "    count=0\n",
    "    for i in names:\n",
    "        if search==i:\n",
    "            count=count+1\n",
    "    print(search,count)"
   ]
  },
  {
   "cell_type": "markdown",
   "metadata": {},
   "source": [
    "#### Dictionary"
   ]
  },
  {
   "cell_type": "code",
   "execution_count": 4,
   "metadata": {},
   "outputs": [
    {
     "name": "stdout",
     "output_type": "stream",
     "text": [
      "Gokul\n"
     ]
    }
   ],
   "source": [
    "my_dict={\n",
    "    \"Name\":\"Gokul\",\n",
    "    \"Phone\":7894561230,\n",
    "    \"Email\":\"gokul@gmail.com\"}\n",
    "print(my_dict[\"Name\"])"
   ]
  },
  {
   "cell_type": "code",
   "execution_count": 5,
   "metadata": {},
   "outputs": [
    {
     "name": "stdout",
     "output_type": "stream",
     "text": [
      "{'Name': 'Gokul Manoj', 'Phone': 7894561230, 'Email': 'gokul@gmail.com'}\n"
     ]
    }
   ],
   "source": [
    "my_dict[\"Name\"]=\"Gokul Manoj\"\n",
    "print(my_dict)"
   ]
  },
  {
   "cell_type": "code",
   "execution_count": 6,
   "metadata": {},
   "outputs": [
    {
     "data": {
      "text/plain": [
       "{'Name': 'Gokul Manoj',\n",
       " 'Phone': 7894561230,\n",
       " 'Email': 'gokul@gmail.com',\n",
       " 'Address': 'Christ University'}"
      ]
     },
     "execution_count": 6,
     "metadata": {},
     "output_type": "execute_result"
    }
   ],
   "source": [
    "my_dict[\"Address\"]=\"Christ University\"\n",
    "my_dict"
   ]
  },
  {
   "cell_type": "code",
   "execution_count": 7,
   "metadata": {},
   "outputs": [
    {
     "name": "stdout",
     "output_type": "stream",
     "text": [
      "dict_keys(['Name', 'Phone', 'Email', 'Address'])\n"
     ]
    }
   ],
   "source": [
    "print(my_dict.keys())"
   ]
  },
  {
   "cell_type": "code",
   "execution_count": 10,
   "metadata": {},
   "outputs": [
    {
     "name": "stdout",
     "output_type": "stream",
     "text": [
      "Name\n",
      "Phone\n",
      "Email\n",
      "Address\n"
     ]
    }
   ],
   "source": [
    "for key in my_dict.keys():\n",
    "    print(key)"
   ]
  },
  {
   "cell_type": "code",
   "execution_count": 13,
   "metadata": {},
   "outputs": [
    {
     "name": "stdout",
     "output_type": "stream",
     "text": [
      "dict_values(['Gokul Manoj', 7894561230, 'gokul@gmail.com', 'Christ University'])\n"
     ]
    }
   ],
   "source": [
    "print(my_dict.values())"
   ]
  },
  {
   "cell_type": "code",
   "execution_count": 17,
   "metadata": {},
   "outputs": [
    {
     "name": "stdout",
     "output_type": "stream",
     "text": [
      "Gokul\n",
      "Aadith\n",
      "Devika\n"
     ]
    }
   ],
   "source": [
    "stud={\"Names\":[\"Gokul\",\"Aadith\",\"Devika\"],\n",
    "      \"RegNo\":[1,2,3]}\n",
    "\n",
    "for i in stud[\"Names\"]:\n",
    "    print(i)\n"
   ]
  },
  {
   "cell_type": "code",
   "execution_count": 20,
   "metadata": {},
   "outputs": [
    {
     "name": "stdout",
     "output_type": "stream",
     "text": [
      "Devika\n"
     ]
    }
   ],
   "source": [
    "print(stud[\"Names\"][2])"
   ]
  },
  {
   "cell_type": "code",
   "execution_count": 27,
   "metadata": {},
   "outputs": [
    {
     "name": "stdout",
     "output_type": "stream",
     "text": [
      "[{'Rollno': 231001, 'Name': 'Aadith', 'Phone': 7894561230}, {'Rollno': 231002, 'Name': 'Abhay', 'Phone': 7894567895}, {'Rollno': 231003, 'Name': 'Arun', 'Phone': 7894561288}]\n"
     ]
    }
   ],
   "source": [
    "msc=[\n",
    "    {\n",
    "        \"Rollno\":231001,\n",
    "        \"Name\":\"Aadith\",\n",
    "        \"Phone\":7894561230\n",
    "    },\n",
    "    {\n",
    "        \"Rollno\":231002,\n",
    "        \"Name\":\"Abhay\",\n",
    "        \"Phone\":7894567895\n",
    "    },\n",
    "    {\n",
    "        \"Rollno\":231003,\n",
    "        \"Name\":\"Arun\",\n",
    "        \"Phone\":7894561288\n",
    "    }\n",
    "]\n",
    "print(msc)"
   ]
  },
  {
   "cell_type": "code",
   "execution_count": 39,
   "metadata": {},
   "outputs": [
    {
     "name": "stdout",
     "output_type": "stream",
     "text": [
      "dict_keys(['Rollno', 'Name', 'Phone'])\n"
     ]
    },
    {
     "ename": "TypeError",
     "evalue": "'int' object is not subscriptable",
     "output_type": "error",
     "traceback": [
      "\u001b[1;31m---------------------------------------------------------------------------\u001b[0m",
      "\u001b[1;31mTypeError\u001b[0m                                 Traceback (most recent call last)",
      "Cell \u001b[1;32mIn[39], line 4\u001b[0m\n\u001b[0;32m      2\u001b[0m \u001b[39mfor\u001b[39;00m i \u001b[39min\u001b[39;00m msc:\n\u001b[0;32m      3\u001b[0m     \u001b[39mfor\u001b[39;00m j \u001b[39min\u001b[39;00m i\u001b[39m.\u001b[39mvalues():\n\u001b[1;32m----> 4\u001b[0m         \u001b[39mprint\u001b[39m(j[key],end\u001b[39m=\u001b[39m\u001b[39m'\u001b[39m\u001b[39m\\t\u001b[39;00m\u001b[39m'\u001b[39m)\n\u001b[0;32m      6\u001b[0m     \u001b[39mprint\u001b[39m()\n",
      "\u001b[1;31mTypeError\u001b[0m: 'int' object is not subscriptable"
     ]
    }
   ],
   "source": [
    "print(i.keys())\n",
    "for i in msc:\n",
    "    for j in i.values():\n",
    "        print(j[key],end='\\t')\n",
    "\n",
    "    print()"
   ]
  },
  {
   "cell_type": "markdown",
   "metadata": {},
   "source": [
    "#### Menu driven Program"
   ]
  },
  {
   "cell_type": "code",
   "execution_count": 1,
   "metadata": {},
   "outputs": [
    {
     "name": "stdout",
     "output_type": "stream",
     "text": [
      "Menu options\n",
      "******************************\n",
      "1. Enter your Name\n",
      "2. Search a Name\n",
      "3. List all Names\n",
      "4. Exit\n",
      "Menu options\n",
      "******************************\n",
      "1. Enter your Name\n",
      "2. Search a Name\n",
      "3. List all Names\n",
      "4. Exit\n",
      "Name added successfully\n",
      "Menu options\n",
      "******************************\n",
      "1. Enter your Name\n",
      "2. Search a Name\n",
      "3. List all Names\n",
      "4. Exit\n"
     ]
    },
    {
     "ename": "ValueError",
     "evalue": "invalid literal for int() with base 10: ''",
     "output_type": "error",
     "traceback": [
      "\u001b[1;31m---------------------------------------------------------------------------\u001b[0m",
      "\u001b[1;31mValueError\u001b[0m                                Traceback (most recent call last)",
      "\u001b[1;32md:\\Python\\basic1.ipynb Cell 31\u001b[0m line \u001b[0;36m4\n\u001b[0;32m     <a href='vscode-notebook-cell:/d%3A/Python/basic1.ipynb#X42sZmlsZQ%3D%3D?line=38'>39</a>\u001b[0m \u001b[39mprint\u001b[39m(\u001b[39m\"\u001b[39m\u001b[39m3. List all Names\u001b[39m\u001b[39m\"\u001b[39m)\n\u001b[0;32m     <a href='vscode-notebook-cell:/d%3A/Python/basic1.ipynb#X42sZmlsZQ%3D%3D?line=39'>40</a>\u001b[0m \u001b[39mprint\u001b[39m(\u001b[39m\"\u001b[39m\u001b[39m4. Exit\u001b[39m\u001b[39m\"\u001b[39m)\n\u001b[1;32m---> <a href='vscode-notebook-cell:/d%3A/Python/basic1.ipynb#X42sZmlsZQ%3D%3D?line=40'>41</a>\u001b[0m choice\u001b[39m=\u001b[39m\u001b[39mint\u001b[39;49m(\u001b[39minput\u001b[39;49m(\u001b[39m\"\u001b[39;49m\u001b[39mEnter your choice:\u001b[39;49m\u001b[39m\"\u001b[39;49m))\n\u001b[0;32m     <a href='vscode-notebook-cell:/d%3A/Python/basic1.ipynb#X42sZmlsZQ%3D%3D?line=41'>42</a>\u001b[0m \u001b[39mif\u001b[39;00m choice\u001b[39m==\u001b[39m\u001b[39m1\u001b[39m:\n\u001b[0;32m     <a href='vscode-notebook-cell:/d%3A/Python/basic1.ipynb#X42sZmlsZQ%3D%3D?line=42'>43</a>\u001b[0m     name\u001b[39m=\u001b[39m\u001b[39minput\u001b[39m(\u001b[39m\"\u001b[39m\u001b[39mEnter a name:\u001b[39m\u001b[39m\"\u001b[39m)\n",
      "\u001b[1;31mValueError\u001b[0m: invalid literal for int() with base 10: ''"
     ]
    },
    {
     "ename": "",
     "evalue": "",
     "output_type": "error",
     "traceback": [
      "\u001b[1;31mThe Kernel crashed while executing code in the the current cell or a previous cell. Please review the code in the cell(s) to identify a possible cause of the failure. Click <a href='https://aka.ms/vscodeJupyterKernelCrash'>here</a> for more info. View Jupyter <a href='command:jupyter.viewOutput'>log</a> for further details."
     ]
    }
   ],
   "source": [
    "listnames=[]\n",
    "#store a name to list\n",
    "def storename(name):\n",
    "    name=name.strip().title()\n",
    "    if name in listnames:\n",
    "        return False\n",
    "    else:\n",
    "        listnames.append(name)\n",
    "        return True\n",
    "\n",
    "#list names to the list    \n",
    "def printnames():\n",
    "    print(\"-\"*30)\n",
    "    for name in listnames:\n",
    "        print(name)\n",
    "    print(\"-\"*30)\n",
    "\n",
    "#search a name\n",
    "def searchname(name):\n",
    "    name=name.strip().title()\n",
    "    flag=False\n",
    "    for item in listnames:\n",
    "        if name==item:\n",
    "            print(\"Nam is present in the list\")\n",
    "            flag=True\n",
    "            break\n",
    "    if flag==True:\n",
    "        print(\"Name exists in the list\")\n",
    "    else:\n",
    "        print(\"Name deosn't exist\")\n",
    "        \n",
    "\n",
    "\n",
    "while True:\n",
    "    print(\"Menu options\")\n",
    "    print(\"*\"*30)\n",
    "    print(\"1. Enter your Name\")\n",
    "    print(\"2. Search a Name\")\n",
    "    print(\"3. List all Names\")\n",
    "    print(\"4. Exit\")\n",
    "    choice=int(input(\"Enter your choice:\"))\n",
    "    if choice==1:\n",
    "        name=input(\"Enter a name:\")\n",
    "        retval=storename(name)\n",
    "        if retval==True:\n",
    "            print(\"Name added successfully\")\n",
    "        else:\n",
    "            print(\"Name exists in the list\")\n",
    "    elif choice==2:\n",
    "        search=input(\"Enter name to be searched:\")\n",
    "        searchname(search)\n",
    "    elif choice==3:\n",
    "        printnames()\n",
    "    elif choice==4:\n",
    "        exit()\n",
    "    else:\n",
    "        print(\"Invalid option, please choose correct one\")\n",
    "\n",
    "        \n"
   ]
  },
  {
   "cell_type": "markdown",
   "metadata": {},
   "source": [
    "WAP to create a menu driven program to collect student details:<br>\n",
    "Name, Email, Phone<br>\n",
    "[use dictionary to store the details]<br>\n",
    "Menu OPtions<br>\n",
    "1. Create students<br>\n",
    "2. Search for students<br>\n",
    "3. Print Students"
   ]
  },
  {
   "cell_type": "code",
   "execution_count": 6,
   "metadata": {},
   "outputs": [
    {
     "name": "stdout",
     "output_type": "stream",
     "text": [
      "{456: {'Name': 'asd', 'Email': 'ads', 'Phone': '45'}}\n",
      "456\n",
      "Student not found\n"
     ]
    }
   ],
   "source": [
    "stud_details={}\n",
    "def create(regno,name,email,phone):\n",
    "    dict={\"Name\":name,\"Email\":email,\"Phone\":phone}\n",
    "    stud_details[regno]=dict\n",
    "\n",
    "name=input(\"Enter the name of the student:\")\n",
    "regno=int(input(\"Enter register number:\"))\n",
    "email=input(\"Enter the Email id:\")\n",
    "phone=input(\"Enter phone number:\")\n",
    "create(regno,name,email,phone)\n",
    "print(stud_details)\n",
    "\n",
    "def search(search_name):\n",
    "    for i in stud_details:\n",
    "        print(i)\n",
    "        if i==search_name:\n",
    "            print(regno)\n",
    "            break\n",
    "        else:\n",
    "            print(\"Student not found\")\n",
    "\n",
    "search(search_name=123)"
   ]
  },
  {
   "cell_type": "code",
   "execution_count": null,
   "metadata": {},
   "outputs": [],
   "source": [
    "def printStudent():\n",
    "    print()\n",
    "    for regno in stud_details.keys():\n",
    "        print(regno,end=\"\\t\")\n",
    "        for key in stud_details[regno]:\n",
    "            print(stud_details[regno][key],end=\"\\t\")"
   ]
  },
  {
   "cell_type": "code",
   "execution_count": 7,
   "metadata": {},
   "outputs": [
    {
     "name": "stdout",
     "output_type": "stream",
     "text": [
      "Menu Options\n",
      "1. Enter Student Info\n",
      "2. List Students\n",
      "3. Exit\n",
      "Menu Options\n",
      "1. Enter Student Info\n",
      "2. List Students\n",
      "3. Exit\n",
      "Menu Options\n",
      "1. Enter Student Info\n",
      "2. List Students\n",
      "3. Exit\n",
      "Invalid Choice\n",
      "Menu Options\n",
      "1. Enter Student Info\n",
      "2. List Students\n",
      "3. Exit\n",
      "Menu Options\n",
      "1. Enter Student Info\n",
      "2. List Students\n",
      "3. Exit\n",
      "Menu Options\n",
      "1. Enter Student Info\n",
      "2. List Students\n",
      "3. Exit\n",
      "Invalid Choice\n",
      "Menu Options\n",
      "1. Enter Student Info\n",
      "2. List Students\n",
      "3. Exit\n",
      "Invalid Choice\n",
      "Menu Options\n",
      "1. Enter Student Info\n",
      "2. List Students\n",
      "3. Exit\n",
      "Menu Options\n",
      "1. Enter Student Info\n",
      "2. List Students\n",
      "3. Exit\n",
      "Regno\tName\tEmail\tPhone\n",
      "123\tJeffin\t456\t789\t\n",
      "Menu Options\n",
      "1. Enter Student Info\n",
      "2. List Students\n",
      "3. Exit\n",
      "Menu Options\n",
      "1. Enter Student Info\n",
      "2. List Students\n",
      "3. Exit\n",
      "Menu Options\n",
      "1. Enter Student Info\n",
      "2. List Students\n",
      "3. Exit\n",
      "Regno\tName\tEmail\tPhone\n",
      "123\tJeffin\t456\t789\t\n",
      "546\tad\tds\t56\t\n",
      "564\tsda5\tdsa\t56d\t\n",
      "Menu Options\n",
      "1. Enter Student Info\n",
      "2. List Students\n",
      "3. Exit\n"
     ]
    },
    {
     "ename": "",
     "evalue": "",
     "output_type": "error",
     "traceback": [
      "\u001b[1;31mThe Kernel crashed while executing code in the the current cell or a previous cell. Please review the code in the cell(s) to identify a possible cause of the failure. Click <a href='https://aka.ms/vscodeJupyterKernelCrash'>here</a> for more info. View Jupyter <a href='command:jupyter.viewOutput'>log</a> for further details."
     ]
    }
   ],
   "source": [
    "# Create a menu driven program that collects students details\n",
    "# > Name, Register Number, Email & Phone\n",
    "# [Use dictionary to store student details]\n",
    "\n",
    "# Menu Options\n",
    "# 1. Create Students\n",
    "# 2. Search for Students\n",
    "# 3. Print Students\n",
    "\n",
    "studentDict = {}\n",
    "\n",
    "def createStudent(name,regno,email,phone):\n",
    "    student = {\n",
    "        \"Name\": name,\n",
    "        \"Email\": email,\n",
    "        \"Phone\": phone\n",
    "    }\n",
    "\n",
    "    studentDict[regno] = student\n",
    "\n",
    "def colletStudentInfo():\n",
    "    name = input(\"Enter Student Name: \")\n",
    "    regno = input(\"Enter Student regno: \")\n",
    "    email = input(\"Enter Student Email: \")\n",
    "    phone = input(\"Enter Student Phone: \")\n",
    "    return name, regno, email, phone\n",
    "\n",
    "def printStudents():\n",
    "    print(\"Regno\\tName\\tEmail\\tPhone\")\n",
    "    for regno in studentDict.keys():\n",
    "        print(regno,end=\"\\t\")\n",
    "        for key in studentDict[regno]:\n",
    "            print(studentDict[regno][key],end='\\t')\n",
    "        print()\n",
    "\n",
    "while True:\n",
    "    print(\"Menu Options\")\n",
    "    print(\"1. Enter Student Info\")\n",
    "    print(\"2. List Students\")\n",
    "    print(\"3. Exit\")\n",
    "\n",
    "    choice = input(\"Enter the choice\").strip()\n",
    "    if choice == \"1\":\n",
    "        name, regno, email, phone = colletStudentInfo()\n",
    "        createStudent(name, regno, email, phone)\n",
    "    elif choice == \"2\":\n",
    "        printStudents()\n",
    "    elif choice == \"3\":\n",
    "        exit()\n",
    "    else:\n",
    "        print(\"Invalid Choice\")"
   ]
  }
 ],
 "metadata": {
  "kernelspec": {
   "display_name": "Python 3",
   "language": "python",
   "name": "python3"
  },
  "language_info": {
   "codemirror_mode": {
    "name": "ipython",
    "version": 3
   },
   "file_extension": ".py",
   "mimetype": "text/x-python",
   "name": "python",
   "nbconvert_exporter": "python",
   "pygments_lexer": "ipython3",
   "version": "3.11.2"
  },
  "orig_nbformat": 4
 },
 "nbformat": 4,
 "nbformat_minor": 2
}
