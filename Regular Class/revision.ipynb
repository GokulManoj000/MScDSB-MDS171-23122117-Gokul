{
 "cells": [
  {
   "cell_type": "code",
   "execution_count": 1,
   "metadata": {},
   "outputs": [
    {
     "name": "stdout",
     "output_type": "stream",
     "text": [
      "15\n"
     ]
    }
   ],
   "source": [
    "no=\"1,2,3,4,5\"\n",
    "nmbr=no.split(',')\n",
    "sum=0\n",
    "for i in nmbr:\n",
    "    j=int(i)\n",
    "    sum=sum+j\n",
    "print(sum)\n"
   ]
  },
  {
   "cell_type": "code",
   "execution_count": 2,
   "metadata": {},
   "outputs": [
    {
     "name": "stdout",
     "output_type": "stream",
     "text": [
      "15\n"
     ]
    }
   ],
   "source": [
    "list=input(\"Emter nos:\")\n",
    "a=list.split(',')\n",
    "sum=0\n",
    "for i in a:\n",
    "    sum=sum+int(i)\n",
    "print(sum)\n"
   ]
  },
  {
   "cell_type": "code",
   "execution_count": 6,
   "metadata": {},
   "outputs": [
    {
     "name": "stdout",
     "output_type": "stream",
     "text": [
      "[2, 34, 6]\n",
      "3\n",
      "[1, 5]\n",
      "2\n"
     ]
    }
   ],
   "source": [
    "def nmbr(lst):\n",
    "    oddlst=[]\n",
    "    evenlst=[]\n",
    "    for i in lst:\n",
    "        if i%2==0:\n",
    "            \n",
    "            evenlst.append(i)\n",
    "            evencount=len(evenlst)\n",
    "        if i%2!=0:\n",
    "            oddlst.append(i)\n",
    "            oddcount=len((oddlst))\n",
    "    print(evenlst)\n",
    "    print(evencount)\n",
    "    print(oddlst)\n",
    "    print(oddcount)\n",
    "\n",
    "lst=[]\n",
    "n=int(input(\"Enter number of terms:\"))\n",
    "for i in range(n):\n",
    "    no=int(input(\"Enter no:\"))\n",
    "    lst.append(no) \n",
    "nmbr(lst)"
   ]
  },
  {
   "cell_type": "code",
   "execution_count": 12,
   "metadata": {},
   "outputs": [],
   "source": [
    "file=open(\"kusuthechu.txt\",\"w+\")\n",
    "sum=5+3\n",
    "for i in range(3):\n",
    "    file.write(\"Kusu full udayipp\\n\")\n",
    "    file.write(str(sum)+\"\\n\")\n",
    "file.close()"
   ]
  },
  {
   "cell_type": "code",
   "execution_count": 15,
   "metadata": {},
   "outputs": [],
   "source": [
    "def details():\n",
    "    global name,no\n",
    "    name=input(\"Name:\")\n",
    "    no=input(\"Enter no:\")\n",
    "details()\n",
    "def add_details(name,no):\n",
    "    file=open(\"kusuthechu.txt\",\"w+\")\n",
    "    file.write(name+\"\\n\"+no)\n",
    "    file.close()\n",
    "add_details(name,no)"
   ]
  },
  {
   "cell_type": "code",
   "execution_count": 16,
   "metadata": {},
   "outputs": [
    {
     "name": "stdout",
     "output_type": "stream",
     "text": [
      "{'asdf', 'devika', 'hrgfd', 'rtgfd', 'gokul', 'rhtgfdv', 'aadith'}\n",
      "asdf\n",
      "1\n",
      "devika\n",
      "1\n",
      "hrgfd\n",
      "1\n",
      "rtgfd\n",
      "1\n",
      "gokul\n",
      "3\n",
      "rhtgfdv\n",
      "1\n",
      "aadith\n",
      "2\n"
     ]
    }
   ],
   "source": [
    "name_list=[]\n",
    "for i in range(10):\n",
    "    name=input(\"ENter name:\")\n",
    "    name_list.append(name)\n",
    "lst=set(name_list)\n",
    "print(lst)\n",
    "for i in lst:\n",
    "    print(i)\n",
    "    count=0\n",
    "    for j in name_list:\n",
    "        if i==j:\n",
    "            count=count+1\n",
    "    print(count)"
   ]
  },
  {
   "cell_type": "code",
   "execution_count": 2,
   "metadata": {},
   "outputs": [
    {
     "ename": "NameError",
     "evalue": "name 'name' is not defined",
     "output_type": "error",
     "traceback": [
      "\u001b[1;31m---------------------------------------------------------------------------\u001b[0m",
      "\u001b[1;31mNameError\u001b[0m                                 Traceback (most recent call last)",
      "\u001b[1;32md:\\Python\\revision.ipynb Cell 7\u001b[0m line \u001b[0;36m1\n\u001b[0;32m     <a href='vscode-notebook-cell:/d%3A/Python/revision.ipynb#W6sZmlsZQ%3D%3D?line=13'>14</a>\u001b[0m         total\u001b[39m=\u001b[39m\u001b[39mself\u001b[39m\u001b[39m.\u001b[39mQty\u001b[39m*\u001b[39m\u001b[39mself\u001b[39m\u001b[39m.\u001b[39mprice\n\u001b[0;32m     <a href='vscode-notebook-cell:/d%3A/Python/revision.ipynb#W6sZmlsZQ%3D%3D?line=14'>15</a>\u001b[0m         \u001b[39mself\u001b[39m\u001b[39m.\u001b[39mbill[item]\u001b[39m=\u001b[39mtotal\n\u001b[1;32m---> <a href='vscode-notebook-cell:/d%3A/Python/revision.ipynb#W6sZmlsZQ%3D%3D?line=16'>17</a>\u001b[0m chumma\u001b[39m=\u001b[39mverthe(name,item,qty,price)\n\u001b[0;32m     <a href='vscode-notebook-cell:/d%3A/Python/revision.ipynb#W6sZmlsZQ%3D%3D?line=17'>18</a>\u001b[0m chumma\u001b[39m.\u001b[39mdetails()\n",
      "\u001b[1;31mNameError\u001b[0m: name 'name' is not defined"
     ]
    }
   ],
   "source": [
    "class verthe:\n",
    "    def __init__(self,name,item,qty,price):\n",
    "        self.Name=name\n",
    "        self.Item=item\n",
    "        self.Qty=qty\n",
    "        self.price=price\n",
    "        self.bill={item:price}\n",
    "\n",
    "    def details(self):\n",
    "        name=input(\"Enter your name: \")\n",
    "        item=input(\"Enter item: \")\n",
    "        qty=int(input(\"Enter quantity:\"))\n",
    "        price=int(input(\"Enter price:\"))\n",
    "        total=self.Qty*self.price\n",
    "        self.bill[item]=total\n",
    "\n",
    "chumma=verthe(name,item,qty,price)\n",
    "chumma.details()\n",
    "\n",
    "\n",
    "    \n"
   ]
  }
 ],
 "metadata": {
  "kernelspec": {
   "display_name": "Python 3",
   "language": "python",
   "name": "python3"
  },
  "language_info": {
   "codemirror_mode": {
    "name": "ipython",
    "version": 3
   },
   "file_extension": ".py",
   "mimetype": "text/x-python",
   "name": "python",
   "nbconvert_exporter": "python",
   "pygments_lexer": "ipython3",
   "version": "3.11.2"
  },
  "orig_nbformat": 4
 },
 "nbformat": 4,
 "nbformat_minor": 2
}
